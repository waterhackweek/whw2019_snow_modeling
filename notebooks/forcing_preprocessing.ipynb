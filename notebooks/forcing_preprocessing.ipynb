{
 "cells": [
  {
   "cell_type": "code",
   "execution_count": 1,
   "metadata": {},
   "outputs": [
    {
     "name": "stdout",
     "output_type": "stream",
     "text": [
      "Populating the interactive namespace from numpy and matplotlib\n"
     ]
    }
   ],
   "source": [
    "%pylab inline\n",
    "import xarray as xr\n",
    "import pandas as pd\n",
    "\n",
    "attrs = {\n",
    "   'airpres':  {'units': 'Pa', 'long_name': 'Air pressure'},\n",
    "   'airtemp':  {'units': 'K', 'long_name': 'Air temperature'},\n",
    "   'spechum':  {'units': 'g g-1', 'long_name': 'Specific humidity'},\n",
    "   'windspd':  {'units': 'Wind speed', 'long_name': 'm s-1'},\n",
    "   'SWRadAtm': {'units': 'W m-2', 'long_name': 'Downward shortwave radiation'},\n",
    "   'LWRadAtm': {'units': 'W m-2', 'long_name': 'Downward longwave radiation'},\n",
    "   'pptrate':  {'units': 'kg m-2 s-1', 'long_name': 'Precipitation rate'}}\n",
    "\n",
    "mpl.rcParams['figure.figsize'] = (18, 10)"
   ]
  },
  {
   "cell_type": "code",
   "execution_count": 2,
   "metadata": {},
   "outputs": [],
   "source": [
    "def spechum(rh, T, p):\n",
    "    T0 = 273.15\n",
    "    return rh * np.exp((17.67*(T-T0))/(T-29.65)) / (0.263*p)"
   ]
  },
  {
   "cell_type": "code",
   "execution_count": 3,
   "metadata": {},
   "outputs": [],
   "source": [
    "raw_p = pd.read_csv('../data/MHP2011to2017_SnowDepth_SWE_Precip.csv')\n",
    "bounds = pd.DatetimeIndex(\n",
    "    pd.date_range('2010/10/01', '2010/12/31', freq='H'), name='time')[1:-1]\n",
    "raw_p.index = pd.DatetimeIndex(raw_p['DateTime'], name='time')"
   ]
  },
  {
   "cell_type": "code",
   "execution_count": 4,
   "metadata": {},
   "outputs": [],
   "source": [
    "raw = pd.read_csv('../data/cues2011to2017_Radiation_Albedo_WindSpeed'\n",
    "                  '_GroundTemp_AirTemp_RH_AirPressure_SnowDepth_SWE.csv')\n",
    "raw.index = pd.DatetimeIndex(raw['DateTime'], name='time')\n",
    "# This has one less data step than raw_p\n",
    "raw = raw[:-1]"
   ]
  },
  {
   "cell_type": "code",
   "execution_count": 5,
   "metadata": {},
   "outputs": [],
   "source": [
    "lats = [45.30]\n",
    "lons = [5.77]\n",
    "elev = 1325.\n",
    "bounds = raw_p.index\n",
    "\n",
    "shape = (len(bounds), 1, )\n",
    "dims = ('time', 'hru', )\n",
    "coords = {'time': bounds}\n",
    "\n",
    "met_data = xr.Dataset(coords=coords)\n",
    "met_data.time.encoding['calendar'] = 'standard'\n",
    "met_data.time.encoding['units'] = 'hours since 1990-01-01'\n",
    "summa_vars = ['airpres', 'airtemp', 'spechum', \n",
    "              'windspd', 'SWRadAtm', 'LWRadAtm', 'pptrate']\n",
    "for varname in summa_vars:\n",
    "    met_data[varname] = xr.DataArray(data=np.full(shape, np.nan),\n",
    "                                     coords=coords, dims=dims,\n",
    "                                     name=varname, attrs=attrs[varname])"
   ]
  },
  {
   "cell_type": "code",
   "execution_count": 6,
   "metadata": {},
   "outputs": [],
   "source": [
    "met_data['airpres' ].loc[{'hru': 0}] = raw['AirPressure_mb'] * 100\n",
    "met_data['airtemp' ].loc[{'hru': 0}] = raw['AirTemp_C'] + 273.15\n",
    "met_data['windspd' ].loc[{'hru': 0}] = raw['wind_speed_meters_per_sec']\n",
    "met_data['SWRadAtm'].loc[{'hru': 0}] = raw['uplooking_broadband_watts_per_meterxx2']\n",
    "met_data['LWRadAtm'].loc[{'hru': 0}] = raw['uplooking_longwave_watts_per_meterxx2']\n",
    "met_data['pptrate' ].loc[{'hru': 0}] = raw_p['precip_cm_hr'] * 10 / 3600\n",
    "met_data['spechum' ].loc[{'hru': 0}] = spechum(raw['RH'] * 100, \n",
    "                                               raw['AirTemp_C'] + 273.15, \n",
    "                                               raw['AirPressure_mb'] * 100)"
   ]
  },
  {
   "cell_type": "code",
   "execution_count": 11,
   "metadata": {},
   "outputs": [],
   "source": [
    "ds_local_attrs = xr.open_dataset('../data/local_attributes.nc')\n",
    "#ds_template = xr.open_dataset('./CUES/cues_2016_summa_setup/forcings/cues2016.nc')\n",
    "met_data['hruId'] = ds_local_attrs['hruId']\n",
    "met_data['latitude'] = ds_local_attrs['latitude']\n",
    "met_data['longitude'] = ds_local_attrs['longitude']\n",
    "met_data['data_step'] = [3600.]"
   ]
  },
  {
   "cell_type": "code",
   "execution_count": 12,
   "metadata": {},
   "outputs": [
    {
     "data": {
      "text/plain": [
       "<xarray.Dataset>\n",
       "Dimensions:    (data_step: 1, hru: 1, time: 60864)\n",
       "Coordinates:\n",
       "  * time       (time) datetime64[ns] 2010-10-01 ... 2017-09-09T23:00:00\n",
       "  * data_step  (data_step) float64 3.6e+03\n",
       "Dimensions without coordinates: hru\n",
       "Data variables:\n",
       "    airpres    (time, hru) float64 7.2e+04 7.2e+04 7.2e+04 ... 7.2e+04 7.2e+04\n",
       "    airtemp    (time, hru) float64 285.9 285.8 285.3 285.3 ... 280.3 279.6 279.1\n",
       "    spechum    (time, hru) float64 0.005105 0.005165 ... 0.006187 0.006381\n",
       "    windspd    (time, hru) float64 2.82 0.79 0.42 0.89 ... 1.25 0.39 0.43 0.25\n",
       "    SWRadAtm   (time, hru) float64 0.0 0.0 0.0 0.0 0.0 ... 0.0 0.0 0.0 0.0 0.0\n",
       "    LWRadAtm   (time, hru) float64 263.0 292.0 290.0 267.0 ... 265.0 264.0 263.0\n",
       "    pptrate    (time, hru) float64 0.0 0.0 0.0 0.0 0.0 ... 0.0 0.0 0.0 0.0 0.0\n",
       "    hruId      (hru) int32 ...\n",
       "    latitude   (hru) float64 ...\n",
       "    longitude  (hru) float64 ..."
      ]
     },
     "execution_count": 12,
     "metadata": {},
     "output_type": "execute_result"
    }
   ],
   "source": [
    "met_data.to_netcdf('../data/cues_2011-2017.nc')\n",
    "met_data"
   ]
  },
  {
   "cell_type": "code",
   "execution_count": null,
   "metadata": {},
   "outputs": [],
   "source": []
  }
 ],
 "metadata": {
  "kernelspec": {
   "display_name": "Python 3",
   "language": "python",
   "name": "python3"
  },
  "language_info": {
   "codemirror_mode": {
    "name": "ipython",
    "version": 3
   },
   "file_extension": ".py",
   "mimetype": "text/x-python",
   "name": "python",
   "nbconvert_exporter": "python",
   "pygments_lexer": "ipython3",
   "version": "3.6.7"
  }
 },
 "nbformat": 4,
 "nbformat_minor": 2
}
